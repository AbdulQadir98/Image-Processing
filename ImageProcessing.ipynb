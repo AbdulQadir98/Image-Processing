{
  "nbformat": 4,
  "nbformat_minor": 0,
  "metadata": {
    "colab": {
      "provenance": [],
      "collapsed_sections": [],
      "include_colab_link": true
    },
    "kernelspec": {
      "name": "python3",
      "display_name": "Python 3"
    },
    "language_info": {
      "name": "python"
    }
  },
  "cells": [
    {
      "cell_type": "markdown",
      "metadata": {
        "id": "view-in-github",
        "colab_type": "text"
      },
      "source": [
        "<a href=\"https://colab.research.google.com/github/AbdulQadir98/Image-Processing/blob/master/ImageProcessing.ipynb\" target=\"_parent\"><img src=\"https://colab.research.google.com/assets/colab-badge.svg\" alt=\"Open In Colab\"/></a>"
      ]
    },
    {
      "cell_type": "markdown",
      "source": [
        "# **Image manipulation with OpenCV**"
      ],
      "metadata": {
        "id": "0oIgFaR41e7I"
      }
    },
    {
      "cell_type": "code",
      "execution_count": null,
      "metadata": {
        "id": "AoHn-upPaaFp"
      },
      "outputs": [],
      "source": [
        "# packages for data analysis\n",
        "import matplotlib.pyplot as plt\n",
        "import numpy as np\n",
        "\n",
        "%matplotlib inline"
      ]
    },
    {
      "cell_type": "markdown",
      "source": [
        "### **Color Replresentaion using RGB**"
      ],
      "metadata": {
        "id": "CZLc4IVk2bD4"
      }
    },
    {
      "cell_type": "code",
      "source": [
        "color_1 = [255, 0, 0]     #red\n",
        "color_2 = [0, 255, 0]     #green\n",
        "color_3 = [0, 0, 255]     #blue\n",
        "color_4 = [125, 125, 125] #gray\n",
        "plt.imshow(np.array([\n",
        "   [color_1, color_2],\n",
        "   [color_3, color_4],\n",
        "]))"
      ],
      "metadata": {
        "colab": {
          "base_uri": "https://localhost:8080/",
          "height": 286
        },
        "id": "hK7IUrje2SEH",
        "outputId": "6c51d028-7460-4f41-fc24-21c1fb047366"
      },
      "execution_count": null,
      "outputs": [
        {
          "output_type": "execute_result",
          "data": {
            "text/plain": [
              "<matplotlib.image.AxesImage at 0x7f7502497b90>"
            ]
          },
          "metadata": {},
          "execution_count": 2
        },
        {
          "output_type": "display_data",
          "data": {
            "text/plain": [
              "<Figure size 432x288 with 1 Axes>"
            ],
            "image/png": "[encoded data removed]"
          },
          "metadata": {
            "needs_background": "light"
          }
        }
      ]
    },
    {
      "cell_type": "markdown",
      "source": [
        "### **Images in python**\n",
        "images are 2D arrays of pixels.\n",
        "where real images are much larger structures of pixels.\n",
        "\n",
        "A full HD picture is 1920x1080 pixels. Where each pixel is a vector of 3 elements, hence fial shape whould be: 1920x1080x3"
      ],
      "metadata": {
        "id": "wHPyZY9B3o8J"
      }
    },
    {
      "cell_type": "code",
      "source": [
        "# SIZE = 2\n",
        "# SIZE = 10\n",
        "SIZE = 50\n",
        "\n",
        "colors = np.array(\n",
        "    np.array([\n",
        "        np.array([np.random.randint(0, 255, 3) for x in range(SIZE)]) for x in range(SIZE) \n",
        "    ])\n",
        ")\n",
        "\n",
        "plt.imshow(colors)"
      ],
      "metadata": {
        "colab": {
          "base_uri": "https://localhost:8080/",
          "height": 284
        },
        "id": "0U651ulg3lNy",
        "outputId": "04df8e71-e9cd-42fe-a4c5-66918090890f"
      },
      "execution_count": null,
      "outputs": [
        {
          "output_type": "execute_result",
          "data": {
            "text/plain": [
              "<matplotlib.image.AxesImage at 0x7f7501fabb90>"
            ]
          },
          "metadata": {},
          "execution_count": 3
        },
        {
          "output_type": "display_data",
          "data": {
            "text/plain": [
              "<Figure size 432x288 with 1 Axes>"
            ],
            "image/png": "[encoded data removed]"
          },
          "metadata": {
            "needs_background": "light"
          }
        }
      ]
    },
    {
      "cell_type": "markdown",
      "source": [
        "## **Playing with OpenCV**\n",
        "OpenCV is a library with tools, algorithms and utilities to manage images and cameras etc.."
      ],
      "metadata": {
        "id": "Ba4Jn1aV7G5A"
      }
    },
    {
      "cell_type": "markdown",
      "source": [
        "Installing OpenCV\n",
        "using ***pip install opencv-python***"
      ],
      "metadata": {
        "id": "cZ83TtAJ1nnx"
      }
    },
    {
      "cell_type": "code",
      "source": [
        "import cv2"
      ],
      "metadata": {
        "id": "0gszxeXP2GOj"
      },
      "execution_count": null,
      "outputs": []
    },
    {
      "cell_type": "code",
      "source": [
        "# read image\n",
        "image = cv2.imread(\"./assets/img/sigiriya.jpg\")"
      ],
      "metadata": {
        "id": "3__n26XL6_o3"
      },
      "execution_count": null,
      "outputs": []
    },
    {
      "cell_type": "code",
      "source": [
        "type(image)"
      ],
      "metadata": {
        "id": "LIb5bSNk8Tdp"
      },
      "execution_count": null,
      "outputs": []
    }
  ]
}